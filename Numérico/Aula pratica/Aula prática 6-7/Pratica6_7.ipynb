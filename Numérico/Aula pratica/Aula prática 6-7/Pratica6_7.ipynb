{
 "cells": [
  {
   "cell_type": "markdown",
   "metadata": {},
   "source": [
    "# Cálculo Numérico - Prática 6 e 7"
   ]
  },
  {
   "attachments": {},
   "cell_type": "markdown",
   "metadata": {},
   "source": [
    "8.36-\n",
    "A total charge Q is uniformly distributed around a ring- shaped conductor with radius a. A charge q is located at a distance x from the center of the ring (Fig. P8.36). The force exerted on the charge by the ring is given by:\n",
    "\n",
    "    F=(1/4π*e0)*((Q*qx)/(x²+a²)**(3/2))\n",
    "\n",
    "**CHAPRA e CANALE. Numerical Methods for Engineering.**"
   ]
  },
  {
   "cell_type": "code",
   "execution_count": 27,
   "metadata": {},
   "outputs": [
    {
     "data": {
      "image/png": "[encoded data removed]",
      "text/plain": [
       "<PIL.PngImagePlugin.PngImageFile image mode=RGBA size=506x250 at 0x7F3F73F1C730>"
      ]
     },
     "metadata": {},
     "output_type": "display_data"
    }
   ],
   "source": [
    "from PIL import Image\n",
    "\n",
    "imagem=Image.open('/home/jvfg/Documents/Vs/Python/Numérico/Aula pratica/Aula prática 6-7/FigureP8_36.png')\n",
    "display(imagem)"
   ]
  },
  {
   "attachments": {},
   "cell_type": "markdown",
   "metadata": {},
   "source": [
    "Where e0 = 8.854 × 10e−12 C2∕(N m2). Find the distance x where\n",
    "the force is 1.2 N if q and Q are 2.25 × 10−5 C for a ring with a\n",
    "radius of 0.9 m."
   ]
  },
  {
   "attachments": {},
   "cell_type": "markdown",
   "metadata": {},
   "source": [
    "Deste modo a implementação da função em python se dá por:"
   ]
  },
  {
   "cell_type": "code",
   "execution_count": 14,
   "metadata": {},
   "outputs": [],
   "source": [
    "import numpy as np\n",
    "\n",
    "#Define a função, primeira derivada e segunda derivada para a implementação dos métodos\n",
    "\n",
    "'''\n",
    "e0=8.854*10e-12\n",
    "F=1.2\n",
    "Q=2.25 * 10e-5\n",
    "qx=2.25 * 10e-5\n",
    "a=0.9\n",
    "'''\n",
    "\n",
    "#Função de x:\n",
    "def f(x):return (((2.25*(10**-5))**2)/(((35.416*np.pi)*(10**-12))*((x**2)+(0.9)**2)**(3/2))-1.2)\n",
    "\n",
    "#Primeira derivada da função:\n",
    "def df(x):return ((2.25*(10**-5))**2)/((35.416*np.pi)*(10**-12))*(-1/(2*(((x**2)+(0.9)**2)**3)**(3/2))*(3*((x**2+(0.9)**2)**2)*2*x))\n",
    "\n",
    "#Segunda derivada da função:\n",
    "def df_2(x):return ((2.25*(10**-5))**2)/((35.416*np.pi)*(10**-12))*(-3*(-3/(2*(((x**2)+(0.9)**2)**3)**(5/2))*(3*((x**2)+(0.9)**2)**2)*(2*x))*((x**2)+(0.9)**2)*x+(2*((x**2)+(0.9)**2))*(2*x)+((x**2)+(0.9)**2)*(1/((((x**2)+(0.9)**2)**3)**(3/2))))"
   ]
  },
  {
   "attachments": {},
   "cell_type": "markdown",
   "metadata": {},
   "source": [
    "Os métodos que encotram as raízes foram primeiramente desenvolvidos em arquivos separados e depois implementados para uso neste trabalho, portanto a seguir os mesmo são testados e seu tempo de execução é comparado com o uso da função '%%timeit'"
   ]
  },
  {
   "attachments": {},
   "cell_type": "markdown",
   "metadata": {},
   "source": [
    "# Método da Bissecção:"
   ]
  },
  {
   "cell_type": "code",
   "execution_count": 25,
   "metadata": {},
   "outputs": [
    {
     "name": "stdout",
     "output_type": "stream",
     "text": [
      "177 ns ± 18.7 ns per loop (mean ± std. dev. of 7 runs, 1,000,000 loops each)\n"
     ]
    }
   ],
   "source": [
    "%%timeit \n",
    "\n",
    "def bissecçao(f,a,b,tolerancia=10e-15):\n",
    "    \n",
    "    '''\n",
    "    Método para encontrar raizes da equação:\n",
    "\n",
    "    f = função recebida;\n",
    "    a = menor número do intervalo;\n",
    "    b = maior número do intervalo;\n",
    "    tolerancia = número mais próximo do buscado.\n",
    "\n",
    "    Retorna a raiz.\n",
    "    '''\n",
    "    \n",
    "    #testa se o valor da do produto da função calculada em a e b é maior que 0\n",
    "    #portanto se o intervalo definido da bissecao esta dentro da imagem da função:\n",
    "    if (f(a)*f(b))>0: return None\n",
    "\n",
    "    #testa se parte do intervalo é a raiz\n",
    "    if(f(a)==0): return a\n",
    "    if(f(b)==0): return b\n",
    "\n",
    "    #Calcula a media do intervalo:\n",
    "    i=(a+b)/2\n",
    "\n",
    "    #Define condição de retorno do resultado:\n",
    "    if f(i)==0 or abs(f(i))<tolerancia:return i\n",
    "\n",
    "    #Calcula a bissecao para o intervalo menor que a média:\n",
    "    elif (f(a)*f(i))<0: return bissecçao(f,a,i)\n",
    "\n",
    "    #Calcula a bissecao para o intervalo maior que a média:\n",
    "    elif (f(b)*f(i))<0: return bissecçao(f,b,i)"
   ]
  },
  {
   "attachments": {},
   "cell_type": "markdown",
   "metadata": {},
   "source": [
    "# Método de Newton:"
   ]
  },
  {
   "cell_type": "code",
   "execution_count": 24,
   "metadata": {},
   "outputs": [
    {
     "name": "stdout",
     "output_type": "stream",
     "text": [
      "177 ns ± 15.7 ns per loop (mean ± std. dev. of 7 runs, 10,000,000 loops each)\n"
     ]
    }
   ],
   "source": [
    "%%timeit\n",
    "\n",
    "def newton(f,df,x,tol=10e-15):\n",
    "    \n",
    "    '''\n",
    "    Método para encontrar raizes da equação:\n",
    "\n",
    "    f = Função das quais se buscam raizes;\n",
    "    df = Derivada da função;\n",
    "    x = Aproximação inicial da raiz\n",
    "    tol = Número buscado, mais próximo da raiz verdadeira \n",
    "\n",
    "    Retorna a raiz.\n",
    "    '''\n",
    "\n",
    "    #Testa se a derivada calculada é diferente de 0:\n",
    "    if(df(x)==0):return None\n",
    "\n",
    "    #Testa se a primeira aproximação é raiz:\n",
    "    if(f(x)==0):return x\n",
    "\n",
    "    #Operacionaliza o método em si:\n",
    "    y=x-(f(x)/df(x))\n",
    "\n",
    "    #Condição de termino da recursividade e retorno da raiz:\n",
    "    if abs(f(y))<tol:return y\n",
    "    \n",
    "    #Continuidade do método até encontrar a raiz:\n",
    "    else: return newton(f,df,y)\n"
   ]
  },
  {
   "attachments": {},
   "cell_type": "markdown",
   "metadata": {},
   "source": [
    "# Método de Halley:"
   ]
  },
  {
   "cell_type": "code",
   "execution_count": 28,
   "metadata": {},
   "outputs": [
    {
     "name": "stdout",
     "output_type": "stream",
     "text": [
      "117 ns ± 1.19 ns per loop (mean ± std. dev. of 7 runs, 10,000,000 loops each)\n"
     ]
    }
   ],
   "source": [
    "%%timeit\n",
    "\n",
    "def halley(f,df,df_2,x,tol=10e-15):\n",
    "    '''\n",
    "        Método para encontrar raizes da equação:\n",
    "\n",
    "        f = Função das quais se buscam raizes;\n",
    "        df = Derivada da função;\n",
    "        df_2 = Derivada secunária da função;\n",
    "        x = Aproximação inicial da raiz\n",
    "        tol = Número buscado, mais próximo da raiz verdadeira \n",
    "\n",
    "        Retorna a raiz.\n",
    "    '''\n",
    "      #Looping de calculo do método:\n",
    "    while(abs(f(x))>tol):\n",
    "\n",
    "        #Verifica divisão por 0:\n",
    "        if((2*((df(x))**2))-(f(x)*df_2(x)))==0:break\n",
    "\n",
    "        #Calcula o método em si:\n",
    "        x-=((2*f(x)*df(x))/((2*((df(x))**2))-(f(x)*df_2(x))))\n",
    "        \n",
    "    return x"
   ]
  },
  {
   "attachments": {},
   "cell_type": "markdown",
   "metadata": {},
   "source": [
    "# Aplicação dos Métodos no exercício:\n",
    "\n",
    "Fazendo a implementação das funções para execução real, e obtenção das raízes da função proposta no exercício, obtemos as seguintes células de códigos."
   ]
  },
  {
   "cell_type": "code",
   "execution_count": 19,
   "metadata": {},
   "outputs": [],
   "source": [
    "#Bissecçao:\n",
    "def bissecçao(f,a,b,tolerancia=10e-15):\n",
    "    \n",
    "    '''\n",
    "    Método para encontrar raizes da equação:\n",
    "\n",
    "    f = função recebida;\n",
    "    a = menor número do intervalo;\n",
    "    b = maior número do intervalo;\n",
    "    tolerancia = número mais próximo do buscado.\n",
    "\n",
    "    Retorna a raiz.\n",
    "    '''\n",
    "    \n",
    "    #testa se o valor da do produto da função calculada em a e b é maior que 0\n",
    "    #portanto se o intervalo definido da bissecao esta dentro da imagem da função:\n",
    "    if (f(a)*f(b))>0: return None\n",
    "\n",
    "    #testa se parte do intervalo é a raiz\n",
    "    if(f(a)==0): return a\n",
    "    if(f(b)==0): return b\n",
    "\n",
    "    #Calcula a media do intervalo:\n",
    "    i=(a+b)/2\n",
    "\n",
    "    #Define condição de retorno do resultado:\n",
    "    if f(i)==0 or abs(f(i))<tolerancia:return i\n",
    "\n",
    "    #Calcula a bissecao para o intervalo menor que a média:\n",
    "    elif (f(a)*f(i))<0: return bissecçao(f,a,i)\n",
    "\n",
    "    #Calcula a bissecao para o intervalo maior que a média:\n",
    "    elif (f(b)*f(i))<0: return bissecçao(f,b,i)\n",
    "\n",
    "\n",
    "#Newton:\n",
    "def newton(f,df,x,tol=10e-15):\n",
    "    \n",
    "    '''\n",
    "    Método para encontrar raizes da equação:\n",
    "\n",
    "    f = Função das quais se buscam raizes;\n",
    "    df = Derivada da função;\n",
    "    x = Aproximação inicial da raiz\n",
    "    tol = Número buscado, mais próximo da raiz verdadeira \n",
    "\n",
    "    Retorna a raiz.\n",
    "    '''\n",
    "\n",
    "    #Testa se a derivada calculada é diferente de 0:\n",
    "    if(df(x)==0):return None\n",
    "\n",
    "    #Testa se a primeira aproximação é raiz:\n",
    "    if(f(x)==0):return x\n",
    "\n",
    "    #Operacionaliza o método em si:\n",
    "    y=x-(f(x)/df(x))\n",
    "\n",
    "    #Condição de termino da recursividade e retorno da raiz:\n",
    "    if abs(f(y))<tol:return y\n",
    "    \n",
    "    #Continuidade do método até encontrar a raiz:\n",
    "    else: return newton(f,df,y)\n",
    "\n",
    "\n",
    "#Halley:\n",
    "def halley(f,df,df_2,x,tol=10e-15):\n",
    "    '''\n",
    "        Método para encontrar raizes da equação:\n",
    "\n",
    "        f = Função das quais se buscam raizes;\n",
    "        df = Derivada da função;\n",
    "        df_2 = Derivada secunária da função;\n",
    "        x = Aproximação inicial da raiz\n",
    "        tol = Número buscado, mais próximo da raiz verdadeira \n",
    "\n",
    "        Retorna a raiz.\n",
    "    '''\n",
    "      #Looping de calculo do método:\n",
    "    while(abs(f(x))>tol):\n",
    "\n",
    "        #Verifica divisão por 0:\n",
    "        if((2*((df(x))**2))-(f(x)*df_2(x)))==0:break\n",
    "\n",
    "        #Calcula o método em si:\n",
    "        x-=((2*f(x)*df(x))/((2*((df(x))**2))-(f(x)*df_2(x))))\n",
    "        \n",
    "    return x"
   ]
  },
  {
   "cell_type": "code",
   "execution_count": 27,
   "metadata": {},
   "outputs": [
    {
     "name": "stdout",
     "output_type": "stream",
     "text": [
      "A raiz do sistema calculada com o método da Bissecção é:  1.2734150305530108\n",
      "\n",
      "A raiz do sistema calculada com o método da Newton é:  1.2734150305530156\n",
      "\n",
      "A raiz do sistema calculada com o método da Halley é:  1.2734150305530156\n",
      "\n",
      "A raiz do sistema calculada sem auxílio computacional é: 1.27341503055\n"
     ]
    }
   ],
   "source": [
    "#Mostra o Resultado calculado com cada método\n",
    "\n",
    "print(\"A raiz do sistema calculada com o método da Bissecção é: \", bissecçao(f,0,2))\n",
    "print(\"\\nA raiz do sistema calculada com o método da Newton é: \",newton(f,df,1))\n",
    "print(\"\\nA raiz do sistema calculada com o método da Halley é: \",halley(f,df,df_2,1))\n",
    "print(\"\\nA raiz do sistema calculada sem auxílio computacional é: 1.27341503055\")"
   ]
  }
 ],
 "metadata": {
  "kernelspec": {
   "display_name": "Python 3",
   "language": "python",
   "name": "python3"
  },
  "language_info": {
   "codemirror_mode": {
    "name": "ipython",
    "version": 3
   },
   "file_extension": ".py",
   "mimetype": "text/x-python",
   "name": "python",
   "nbconvert_exporter": "python",
   "pygments_lexer": "ipython3",
   "version": "3.10.6"
  },
  "orig_nbformat": 4
 },
 "nbformat": 4,
 "nbformat_minor": 2
}
